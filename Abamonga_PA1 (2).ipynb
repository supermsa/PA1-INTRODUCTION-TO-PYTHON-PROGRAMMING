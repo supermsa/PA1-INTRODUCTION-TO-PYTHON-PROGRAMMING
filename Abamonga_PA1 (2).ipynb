{
 "cells": [
  {
   "cell_type": "markdown",
   "id": "aab749ad-65f9-461f-a1be-167a7aa33bcd",
   "metadata": {},
   "source": [
    "**Michelle Sophia A. Abamonga** <br>\n",
    "2-ECEB <br>\n",
    "PA 1 - INTRODUCTION TO PYTHON PROGRAMMING"
   ]
  },
  {
   "cell_type": "markdown",
   "id": "464e8802-72d2-4016-88f3-85f454ab7b3d",
   "metadata": {},
   "source": [
    "## ALPHABET SOUP PROBLEM"
   ]
  },
  {
   "cell_type": "markdown",
   "id": "572d378d-bb28-434f-ad6c-36b5fc9a69f3",
   "metadata": {},
   "source": [
    "Create a function that takes a string and returns a string with its letters in alphabetical order."
   ]
  },
  {
   "cell_type": "code",
   "execution_count": 118,
   "id": "70995ec4-5bbb-46c9-b8e0-a31320ca2a57",
   "metadata": {},
   "outputs": [
    {
     "data": {
      "text/plain": [
       "' ceinotuu'"
      ]
     },
     "execution_count": 118,
     "metadata": {},
     "output_type": "execute_result"
    }
   ],
   "source": [
    "#Define function\n",
    "def alphabet_soup(s):\n",
    "    #Return the string sorted alphabetically, case-insensitive (uppercase letters maintain their order)\n",
    "    return ''.join(sorted(s.lower()))\n",
    "\n",
    "#Call function\n",
    "alphabet_soup(\"Uno Cutie\")"
   ]
  },
  {
   "cell_type": "markdown",
   "id": "d8304139-8302-4a4d-a512-6ad8ebba5b25",
   "metadata": {},
   "source": [
    "## EMOTICON PROBLEM"
   ]
  },
  {
   "cell_type": "markdown",
   "id": "8af137aa-bf2f-4154-bc96-63518fa53b6c",
   "metadata": {},
   "source": [
    "Create a function that changes specific words into emoticons. Given a sentence as a string, replace the words smile, grin, sad and mad with their corresponding emoticon:"
   ]
  },
  {
   "cell_type": "code",
   "execution_count": 151,
   "id": "ecbda7da-f546-4c6b-84d8-a1775b429429",
   "metadata": {},
   "outputs": [
    {
     "data": {
      "text/plain": [
       "\"Fudge points don't just make me :), but :D!\""
      ]
     },
     "execution_count": 151,
     "metadata": {},
     "output_type": "execute_result"
    }
   ],
   "source": [
    "#Define function\n",
    "def emotify(s):\n",
    "    #Define dictionary\n",
    "    emoticons = {\n",
    "        \"smile\": \":)\",\n",
    "        \"grin\": \":D\",\n",
    "        \"sad\": \":((\",\n",
    "        \"mad\": \">:(\",\n",
    "    }\n",
    "\n",
    "    #Use for loop to iterate over the key-value pairs \n",
    "    for word, emoticon in emoticons.items():\n",
    "        #replace word with emoticons\n",
    "        s = s.replace(word, emoticon)\n",
    "    #return string\n",
    "    return s\n",
    "\n",
    "#Call function\n",
    "emotify(\"Fudge points don't just make me smile, but grin!\")"
   ]
  },
  {
   "cell_type": "markdown",
   "id": "20e74eda-7605-4781-b50b-153f57da1d10",
   "metadata": {},
   "source": [
    "## UNPACKING LIST PROBLEM"
   ]
  },
  {
   "cell_type": "markdown",
   "id": "b7292f0b-b37c-44e3-9348-0da803e0789c",
   "metadata": {},
   "source": [
    "Unpack the list writeyourcodehere into three variables, being first, middle, and last, with middle being everything in between the first and last element. Then print all three variables."
   ]
  },
  {
   "cell_type": "code",
   "execution_count": 161,
   "id": "50d19bde-8f09-4f3d-a83c-b7d5d15b1ef7",
   "metadata": {},
   "outputs": [
    {
     "name": "stdout",
     "output_type": "stream",
     "text": [
      "First: 1-ECEB\n",
      "Middle: ['2-ECEB', '3-ECEB']\n",
      "Last: 4-ECEB\n"
     ]
    }
   ],
   "source": [
    "#Define function\n",
    "def unpack(list):\n",
    "    #Unpack the list into variables\n",
    "    list = first, *middle, last\n",
    "\n",
    "    # Print the values\n",
    "    print(\"First:\", first)\n",
    "    print(\"Middle:\", middle)\n",
    "    print(\"Last:\", last)\n",
    "\n",
    "#Define list\n",
    "writeyourcodehere = [\"1-ECEB\", \"2-ECEB\", \"3-ECEB\", \"4-ECEB\"]\n",
    "\n",
    "#Call the function with the list\n",
    "unpack(writeyourcodehere)"
   ]
  }
 ],
 "metadata": {
  "kernelspec": {
   "display_name": "anaconda-panel-2023.05-py310",
   "language": "python",
   "name": "conda-env-anaconda-panel-2023.05-py310-py"
  },
  "language_info": {
   "codemirror_mode": {
    "name": "ipython",
    "version": 3
   },
   "file_extension": ".py",
   "mimetype": "text/x-python",
   "name": "python",
   "nbconvert_exporter": "python",
   "pygments_lexer": "ipython3",
   "version": "3.11.5"
  }
 },
 "nbformat": 4,
 "nbformat_minor": 5
}
